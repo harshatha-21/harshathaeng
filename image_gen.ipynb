{
  "nbformat": 4,
  "nbformat_minor": 0,
  "metadata": {
    "colab": {
      "provenance": [],
      "authorship_tag": "ABX9TyNEW67nxQ+Ko3vtvKUp03sy",
      "include_colab_link": true
    },
    "kernelspec": {
      "name": "python3",
      "display_name": "Python 3"
    },
    "language_info": {
      "name": "python"
    }
  },
  "cells": [
    {
      "cell_type": "markdown",
      "metadata": {
        "id": "view-in-github",
        "colab_type": "text"
      },
      "source": [
        "<a href=\"https://colab.research.google.com/github/harshatha-21/harshathaeng/blob/main/image_gen.ipynb\" target=\"_parent\"><img src=\"https://colab.research.google.com/assets/colab-badge.svg\" alt=\"Open In Colab\"/></a>"
      ]
    },
    {
      "cell_type": "code",
      "execution_count": 1,
      "metadata": {
        "colab": {
          "base_uri": "https://localhost:8080/",
          "height": 211
        },
        "id": "80GL80wDeaPl",
        "outputId": "b7ec6e97-3039-417c-fe36-6c6739f41cde"
      },
      "outputs": [
        {
          "output_type": "error",
          "ename": "NameError",
          "evalue": "name 'true' is not defined",
          "traceback": [
            "\u001b[0;31m---------------------------------------------------------------------------\u001b[0m",
            "\u001b[0;31mNameError\u001b[0m                                 Traceback (most recent call last)",
            "\u001b[0;32m<ipython-input-1-f74b834ea84a>\u001b[0m in \u001b[0;36m<cell line: 0>\u001b[0;34m()\u001b[0m\n\u001b[1;32m      6\u001b[0m       \u001b[0;34m\"provenance\"\u001b[0m\u001b[0;34m:\u001b[0m \u001b[0;34m[\u001b[0m\u001b[0;34m]\u001b[0m\u001b[0;34m,\u001b[0m\u001b[0;34m\u001b[0m\u001b[0;34m\u001b[0m\u001b[0m\n\u001b[1;32m      7\u001b[0m       \u001b[0;34m\"authorship_tag\"\u001b[0m\u001b[0;34m:\u001b[0m \u001b[0;34m\"ABX9TyNK90vw4Ulw8K5Sdf7KL51+\"\u001b[0m\u001b[0;34m,\u001b[0m\u001b[0;34m\u001b[0m\u001b[0;34m\u001b[0m\u001b[0m\n\u001b[0;32m----> 8\u001b[0;31m       \u001b[0;34m\"include_colab_link\"\u001b[0m\u001b[0;34m:\u001b[0m \u001b[0mtrue\u001b[0m\u001b[0;34m\u001b[0m\u001b[0;34m\u001b[0m\u001b[0m\n\u001b[0m\u001b[1;32m      9\u001b[0m     },\n\u001b[1;32m     10\u001b[0m     \"kernelspec\": {\n",
            "\u001b[0;31mNameError\u001b[0m: name 'true' is not defined"
          ]
        }
      ],
      "source": [
        "{\n",
        "  \"nbformat\": 4,\n",
        "  \"nbformat_minor\": 0,\n",
        "  \"metadata\": {\n",
        "    \"colab\": {\n",
        "      \"provenance\": [],\n",
        "      \"authorship_tag\": \"ABX9TyNK90vw4Ulw8K5Sdf7KL51+\",\n",
        "      \"include_colab_link\": true\n",
        "    },\n",
        "    \"kernelspec\": {\n",
        "      \"name\": \"python3\",\n",
        "      \"display_name\": \"Python 3\"\n",
        "    },\n",
        "    \"language_info\": {\n",
        "      \"name\": \"python\"\n",
        "    }\n",
        "  },\n",
        "  \"cells\": [\n",
        "    {\n",
        "      \"cell_type\": \"markdown\",\n",
        "      \"metadata\": {\n",
        "        \"id\": \"view-in-github\",\n",
        "        \"colab_type\": \"text\"\n",
        "      },\n",
        "      \"source\": [\n",
        "        \"<a href=\\\"https://colab.research.google.com/github/Kalyanianikkath/NM-Genrative-AI/blob/main/image_gen.ipynb\\\" target=\\\"_parent\\\"><img src=\\\"https://colab.research.google.com/assets/colab-badge.svg\\\" alt=\\\"Open In Colab\\\"/></a>\"\n",
        "      ]\n",
        "    },\n",
        "    {\n",
        "      \"cell_type\": \"code\",\n",
        "      \"execution_count\": null,\n",
        "      \"metadata\": {\n",
        "        \"id\": \"ZR3jQk7cY1v3\",\n",
        "        \"colab\": {\n",
        "          \"base_uri\": \"https://localhost:8080/\"\n",
        "        },\n",
        "        \"outputId\": \"b59f379c-ccc8-480a-c7d5-4453e69a494f\"\n",
        "      },\n",
        "      \"outputs\": [\n",
        "        {\n",
        "          \"output_type\": \"stream\",\n",
        "          \"name\": \"stdout\",\n",
        "          \"text\": [\n",
        "            \"Collecting openai==0.28\\n\",\n",
        "            \"  Downloading openai-0.28.0-py3-none-any.whl.metadata (13 kB)\\n\",\n",
        "            \"Requirement already satisfied: requests>=2.20 in /usr/local/lib/python3.11/dist-packages (from openai==0.28) (2.32.3)\\n\",\n",
        "            \"Requirement already satisfied: tqdm in /usr/local/lib/python3.11/dist-packages (from openai==0.28) (4.67.1)\\n\",\n",
        "            \"Requirement already satisfied: aiohttp in /usr/local/lib/python3.11/dist-packages (from openai==0.28) (3.11.15)\\n\",\n",
        "            \"Requirement already satisfied: charset-normalizer<4,>=2 in /usr/local/lib/python3.11/dist-packages (from requests>=2.20->openai==0.28) (3.4.1)\\n\",\n",
        "            \"Requirement already satisfied: idna<4,>=2.5 in /usr/local/lib/python3.11/dist-packages (from requests>=2.20->openai==0.28) (3.10)\\n\",\n",
        "            \"Requirement already satisfied: urllib3<3,>=1.21.1 in /usr/local/lib/python3.11/dist-packages (from requests>=2.20->openai==0.28) (2.3.0)\\n\",\n",
        "            \"Requirement already satisfied: certifi>=2017.4.17 in /usr/local/lib/python3.11/dist-packages (from requests>=2.20->openai==0.28) (2025.1.31)\\n\",\n",
        "            \"Requirement already satisfied: aiohappyeyeballs>=2.3.0 in /usr/local/lib/python3.11/dist-packages (from aiohttp->openai==0.28) (2.6.1)\\n\",\n",
        "            \"Requirement already satisfied: aiosignal>=1.1.2 in /usr/local/lib/python3.11/dist-packages (from aiohttp->openai==0.28) (1.3.2)\\n\",\n",
        "            \"Requirement already satisfied: attrs>=17.3.0 in /usr/local/lib/python3.11/dist-packages (from aiohttp->openai==0.28) (25.3.0)\\n\",\n",
        "            \"Requirement already satisfied: frozenlist>=1.1.1 in /usr/local/lib/python3.11/dist-packages (from aiohttp->openai==0.28) (1.5.0)\\n\",\n",
        "            \"Requirement already satisfied: multidict<7.0,>=4.5 in /usr/local/lib/python3.11/dist-packages (from aiohttp->openai==0.28) (6.4.2)\\n\",\n",
        "            \"Requirement already satisfied: propcache>=0.2.0 in /usr/local/lib/python3.11/dist-packages (from aiohttp->openai==0.28) (0.3.1)\\n\",\n",
        "            \"Requirement already satisfied: yarl<2.0,>=1.17.0 in /usr/local/lib/python3.11/dist-packages (from aiohttp->openai==0.28) (1.19.0)\\n\",\n",
        "            \"Downloading openai-0.28.0-py3-none-any.whl (76 kB)\\n\",\n",
        "            \"\\u001b[2K   \\u001b[90m━━━━━━━━━━━━━━━━━━━━━━━━━━━━━━━━━━━━━━━━\\u001b[0m \\u001b[32m76.5/76.5 kB\\u001b[0m \\u001b[31m1.3 MB/s\\u001b[0m eta \\u001b[36m0:00:00\\u001b[0m\\n\",\n",
        "            \"\\u001b[?25hInstalling collected packages: openai\\n\",\n",
        "            \"  Attempting uninstall: openai\\n\",\n",
        "            \"    Found existing installation: openai 1.72.0\\n\",\n",
        "            \"    Uninstalling openai-1.72.0:\\n\",\n",
        "            \"      Successfully uninstalled openai-1.72.0\\n\",\n",
        "            \"Successfully installed openai-0.28.0\\n\"\n",
        "          ]\n",
        "        }\n",
        "      ],\n",
        "      \"source\": [\n",
        "        \"!pip install openai==0.28\\n\",\n",
        "        \"import openai\\n\",\n",
        "        \"import IPython.display as display\\n\",\n",
        "        \"\\n\",\n",
        "        \"# Set your OpenAI API key (Replace with your API key)\\n\",\n",
        "        \"openai.api_key = \\\"your_openai_api_key\\\"\\n\",\n",
        "        \"\\n\",\n",
        "        \"def generate_image():\\n\",\n",
        "        \"    # Get a single-word input from the user\\n\",\n",
        "        \"    word = input(\\\"Enter a single word for image generation: \\\").strip()\\n\",\n",
        "        \"\\n\",\n",
        "        \"    # Convert the word into a more descriptive prompt\\n\",\n",
        "        \"    prompt = f\\\"A highly detailed and realistic image of {word}. Vibrant colors, professional photography style.\\\"\\n\",\n",
        "        \"\\n\",\n",
        "        \"    # Generate an image using DALL·E\\n\",\n",
        "        \"    response = openai.Image.create(\\n\",\n",
        "        \"        prompt=prompt,\\n\",\n",
        "        \"        n=1,  # Number of images\\n\",\n",
        "        \"        size=\\\"1024x1024\\\"  # Image resolution\\n\",\n",
        "        \"    )\\n\",\n",
        "        \"\\n\",\n",
        "        \"    # Get the image URL\\n\",\n",
        "        \"    image_url = response['data'][0]['url']\\n\",\n",
        "        \"\\n\",\n",
        "        \"    # Display the generated image\\n\",\n",
        "        \"    display.display(display.Image(url=image_url))\\n\",\n",
        "        \"    print(f\\\"Generated Image URL: {image_url}\\\")\\n\",\n",
        "        \"\\n\",\n",
        "        \"# Run the function\\n\",\n",
        "        \"generate_image()\"\n",
        "      ]\n",
        "    }\n",
        "  ]\n",
        "}"
      ]
    }
  ]
}